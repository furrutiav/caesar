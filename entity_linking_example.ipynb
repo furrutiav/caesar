{
 "cells": [
  {
   "cell_type": "code",
   "execution_count": 1,
   "metadata": {},
   "outputs": [],
   "source": [
    "from class_wikiwrapper import WikiWrapper\n",
    "import pandas as pd \n",
    "import numpy as np\n",
    "import pickle\n",
    "import glob\n",
    "import sys\n",
    "import re\n",
    "from time import time, gmtime, strftime\n",
    "from collections import defaultdict"
   ]
  },
  {
   "cell_type": "code",
   "execution_count": 2,
   "metadata": {
    "scrolled": false
   },
   "outputs": [],
   "source": [
    "from class_linkscore import LinkScore\n",
    "from class_cohm import COHM\n",
    "from class_annealing import Annealing"
   ]
  },
  {
   "cell_type": "code",
   "execution_count": 16,
   "metadata": {},
   "outputs": [],
   "source": [
    "def get_results_from_wikipedia(s, wikipedia_wrapper):\n",
    "    Q = wikipedia_wrapper.get_results(s)\n",
    "    R = []\n",
    "    for r in Q:\n",
    "        r_title = r[\"title\"]\n",
    "        if r[\"des\"] == 1:\n",
    "            des_results = wikipedia_wrapper.get_iolinks(r_title, ides=True)[\"links\"]\n",
    "            for d in des_results:\n",
    "                if d[\"des\"] == 0:\n",
    "                    R.append(d)\n",
    "        else:\n",
    "            R.append(r)\n",
    "        \n",
    "    results = [r[\"title\"] for r in R]\n",
    "    return results\n",
    "\n",
    "def clf_NIL(size, str_sim, ctx_sim):\n",
    "    if size == 0:\n",
    "        return 1\n",
    "    else:\n",
    "        if str_sim >= 0.8:\n",
    "            return 0\n",
    "        elif str_sim >= 0.4:\n",
    "            if ctx_sim <= 0.1:\n",
    "                return 1\n",
    "            else:\n",
    "                return 0\n",
    "        else:\n",
    "            if ctx_sim <= 0.5:\n",
    "                return 1\n",
    "            else:\n",
    "                return 0\n",
    "            \n",
    "def NIL(s, candidates_s):\n",
    "    size = len(candidates_s)\n",
    "    scores = {\n",
    "        \"str\": [0],\n",
    "        \"ctx\": [0]\n",
    "    }\n",
    "    entity_mentioned = s\n",
    "    for zx in range(size):\n",
    "        entity_named = candidates_s[zx]\n",
    "        str_score = linkscore.get_single_str_score(entity_mentioned, entity_named)[\"max\"]\n",
    "        ctx_score = linkscore.get_single_ctx_score(entity_mentioned, entity_named)[\"union\"]\n",
    "        scores[\"str\"].append(str_score)\n",
    "        scores[\"ctx\"].append(ctx_score)\n",
    "    return clf_NIL(len(candidates_s), max(scores[\"str\"]), max(scores[\"ctx\"]))\n",
    "\n",
    "def get_prepros(reference, WW, nil_list=None):\n",
    "    if nil_list is None:\n",
    "        nil_list = []\n",
    "    space = []\n",
    "    base = []\n",
    "    reference_mask = np.ones(len(reference))\n",
    "    for j, k in enumerate(reference):\n",
    "        if k not in nil_list:\n",
    "            Rk = WW.get_results(k)\n",
    "            if Rk:\n",
    "                row = []\n",
    "                for r in Rk:\n",
    "                    if r[\"des\"] == 0:\n",
    "                        row.append(r[\"title\"])\n",
    "                if len(row) > 1:\n",
    "                    space.append(np.array(row))\n",
    "                    base.append(k)\n",
    "                else:\n",
    "                    reference_mask[j] = 0\n",
    "            else:\n",
    "                reference_mask[j] = 0\n",
    "                nil_list.append(k)\n",
    "        else:\n",
    "            reference_mask[j] = 0\n",
    "\n",
    "#     space = np.array(space)\n",
    "    base = np.array(base)\n",
    "\n",
    "    return reference_mask, base, space\n",
    "\n",
    "def get_link(reference, space, reference_mask, X):\n",
    "    dic = {}\n",
    "    ix = 0\n",
    "    for i, b in enumerate(reference_mask):\n",
    "        if b:\n",
    "            dic[reference[i]] = space[ix][X[ix]]\n",
    "            ix += 1\n",
    "        else:\n",
    "            dic[reference[i]] = np.nan\n",
    "    return dic"
   ]
  },
  {
   "cell_type": "code",
   "execution_count": 17,
   "metadata": {},
   "outputs": [],
   "source": [
    "entity_named = [\n",
    "    'artificial intelligence',\n",
    "    'cognition',\n",
    "    'controlled study',\n",
    "    'diagnostic imaging',\n",
    "    'human',\n",
    "    'procedures',\n",
    "    'randomized controlled trial',\n",
    "    'retrospective study',\n",
    "    'x-ray computed tomography',\n",
    "    'Artificial Intelligence',\n",
    "    'Cognition',\n",
    "    'COVID-19',\n",
    "    'Humans',\n",
    "    'Retrospective Studies',\n",
    "    'Tomography, X-Ray Computed'\n",
    "]"
   ]
  },
  {
   "cell_type": "code",
   "execution_count": 6,
   "metadata": {},
   "outputs": [],
   "source": [
    "WW = WikiWrapper()"
   ]
  },
  {
   "cell_type": "code",
   "execution_count": 7,
   "metadata": {},
   "outputs": [
    {
     "name": "stdout",
     "output_type": "stream",
     "text": [
      "candidates entity named: {'artificial intelligence': ['Artificial intelligence', 'Artificial general intelligence', 'Generative artificial intelligence', 'Hallucination (artificial intelligence)', 'Artificial intelligence art', 'A.I. Artificial Intelligence', 'History of artificial intelligence', 'Applications of artificial intelligence', 'Swarm intelligence', 'Artificial intelligence in healthcare', 'Ethics of artificial intelligence', 'Explainable artificial intelligence', 'Friendly artificial intelligence', 'Symbolic artificial intelligence', 'Timeline of artificial intelligence'], 'cognition': ['Cognition', 'Elephant cognition', 'Animal cognition', 'Embodied cognition', 'Need for cognition', 'Nootropic', 'Epistemic cognition', 'Dynamicism', 'Computational cognition', 'Metacognition', 'Evolution of cognition', 'Consciousness and Cognition', 'Perseverative cognition', 'Distributed cognition', 'Paranoia'], 'controlled study': ['Scientific control', 'Placebo-controlled study', 'Case–control study', 'Randomized controlled trial', 'Nested case–control study', 'Clinical trial', 'Observational study', 'Cohort study', 'Placebo', 'Effects of pornography', 'Cross-sectional study', 'Clinical study design', 'Bristol stool scale', 'Epidemiology', 'Retrospective cohort study'], 'diagnostic imaging': ['Medical imaging', 'Magnetic resonance imaging', 'GE HealthCare', 'Medical test', 'Radiography', 'Medical radiation scientist', 'Radiographer', 'Radiology', 'Medical ultrasound', 'RadNet', 'CT scan', 'Spondylolisthesis', 'Phossy jaw', 'Insulinoma', 'Diagnostic Health Corporation'], 'human': ['Human', 'Human rights', 'Human sexuality', 'Human trafficking', 'Human evolution', 'Human body', 'Human Development Index', 'Human', 'Human Race (Margaret Urlich song)', 'Human Race (Three Days Grace song)', 'Human Race Theatre Company', 'Inland (Jars of Clay album)', 'List of songs recorded by the Everly Brothers', 'Neil Innes', 'Neruda (album)', 'Robert Antelme', 'The Human Race (film)', 'Human brain', 'Human resources', 'Human history', 'Human penis', 'Human leg', 'Human genome', 'Development of the human body', 'Developmental psychology', 'Human Development (journal)', 'Human Development Index', 'Human development (economics)', 'Human evolution'], 'procedures': ['Civil procedure', 'Criminal procedure', 'Medical procedure', 'Parliamentary procedure', 'Procedure (business)', 'Recipe', 'Standard operating procedure', 'Stored procedure', 'The Procedure', 'Standard operating procedure', 'Stored procedure', 'Medical procedure', 'Surgery', 'Civil procedure', 'Invasive Procedures (Star Trek: Deep Space Nine)', 'Invasive Procedures (novel)', 'Procedural programming', 'Radiotelephony procedure', 'Criminal procedure', 'Minimally invasive procedure', 'Committal procedure', 'Plastic surgery', 'Diagnosis', 'Parliamentary procedure'], 'randomized controlled trial': ['Randomized controlled trial', 'Cluster-randomised controlled trial', 'Case–control study', 'Randomized experiment', 'Clinical trial', 'Hierarchy of evidence', 'Observational study', 'Placebo-controlled study', 'N of 1 trial', 'Transcutaneous electrical nerve stimulation', 'Intention-to-treat analysis', 'Crossover study', 'Methylsulfonylmethane', 'Cardiac Arrhythmia Suppression Trial', 'Laxative'], 'retrospective study': ['Retrospective cohort study', 'Case–control study', 'Cohort study', 'Clinical study design', 'Genetic Studies of Genius', 'Tuskegee Syphilis Study', 'Postural orthostatic tachycardia syndrome', 'Hippus', 'Smegma', 'Chihuahua (dog)', 'Cohort (statistics)', 'Osteo-odonto-keratoprosthesis', 'Pomeranian dog', 'Mallampati score', 'Meningioma'], 'x-ray computed tomography': ['Industrial computed tomography', 'CT scan', 'Tomography', 'Cone beam computed tomography', 'X-ray microtomography', 'Electron beam computed tomography', 'High-resolution computed tomography', 'History of computed tomography', 'Computed tomography angiography', 'Operation of computed tomography', 'Photon-counting computed tomography', 'Quantitative computed tomography', 'Computed tomography dose index', 'Computed tomography of the head', 'PET-CT'], 'Artificial Intelligence': ['Artificial intelligence', 'Generative artificial intelligence', 'Artificial general intelligence', 'Hallucination (artificial intelligence)', 'Artificial intelligence art', 'A.I. Artificial Intelligence', 'History of artificial intelligence', 'Applications of artificial intelligence', 'Swarm intelligence', 'Artificial intelligence in healthcare', 'Ethics of artificial intelligence', 'Friendly artificial intelligence', 'Symbolic artificial intelligence', 'Timeline of artificial intelligence', 'Outline of artificial intelligence'], 'Cognition': ['Cognition', 'Embodied cognition', 'Elephant cognition', 'Animal cognition', 'Need for cognition', 'Nootropic', 'Epistemic cognition', 'Social cognition', 'Dynamicism', 'Computational cognition', 'Metacognition', 'Consciousness and Cognition', 'Evolution of cognition', 'Paranoia', 'Perseverative cognition'], 'COVID-19': ['COVID-19', 'COVID-19 pandemic', 'COVID-19 vaccine', 'COVID-19 pandemic in Indonesia', 'COVID-19 testing', 'Endemic COVID-19', 'COVID-19 pandemic in the United States', 'COVID-19 misinformation', 'COVID-19 lockdowns', 'COVID-19 pandemic in Australia', 'Investigations into the origin of COVID-19', 'COVID-19 pandemic in the United Kingdom', 'COVID-19 pandemic in India', 'Timeline of the COVID-19 pandemic', 'COVID-19 pandemic in Canada'], 'Humans': ['Human', 'Archaic humans', 'Human evolution', 'Warcraft: Orcs & Humans', 'Human rights', 'Human trafficking', 'Destroy All Humans!', 'Human sexuality', 'Woman', 'Human history', 'Albinism in humans', 'Humans (TV series)', 'Human genome', 'Human cannibalism', 'Dog'], 'Retrospective Studies': ['Retrospective cohort study', 'Case–control study', 'Cohort study', 'Cohort (statistics)', 'Clinical study design', 'Genetic Studies of Genius', 'Meningioma', 'Biology and sexual orientation', 'Against medical advice', 'Research participant', 'Meta-analysis', 'Prospective cohort study', 'Near-death studies', 'Stevens–Johnson syndrome', 'General paresis of the insane'], 'Tomography, X-Ray Computed': ['CT scan', 'Industrial computed tomography', 'X-ray microtomography', 'Electron beam computed tomography', 'Cone beam computed tomography', 'Tomography', 'History of computed tomography', 'Quantitative computed tomography', 'Operation of computed tomography', 'X-ray machine', 'Computed tomography dose index', 'High-resolution computed tomography', 'Photon-counting computed tomography', 'Computed tomography angiography', 'X-ray tube']}\n",
      "CPU times: user 4.9 s, sys: 139 ms, total: 5.04 s\n",
      "Wall time: 1min 40s\n"
     ]
    }
   ],
   "source": [
    "%%time\n",
    "candidates_entity_named = {\n",
    "    s: get_results_from_wikipedia(s, WW) for s in entity_named\n",
    "}\n",
    "print(\"candidates entity named:\", candidates_entity_named)"
   ]
  },
  {
   "cell_type": "code",
   "execution_count": 8,
   "metadata": {},
   "outputs": [],
   "source": [
    "cohm = COHM(WW)\n",
    "linkscore = LinkScore(cohm)"
   ]
  },
  {
   "cell_type": "code",
   "execution_count": 18,
   "metadata": {},
   "outputs": [
    {
     "name": "stdout",
     "output_type": "stream",
     "text": [
      "CPU times: user 0 ns, sys: 427 µs, total: 427 µs\n",
      "Wall time: 430 µs\n"
     ]
    },
    {
     "data": {
      "text/plain": [
       "{'artificial intelligence': 0,\n",
       " 'cognition': 0,\n",
       " 'controlled study': 0,\n",
       " 'diagnostic imaging': 0,\n",
       " 'human': 0,\n",
       " 'procedures': 0,\n",
       " 'randomized controlled trial': 0,\n",
       " 'retrospective study': 0,\n",
       " 'x-ray computed tomography': 0,\n",
       " 'Artificial Intelligence': 0,\n",
       " 'Cognition': 0,\n",
       " 'COVID-19': 0,\n",
       " 'Humans': 0,\n",
       " 'Retrospective Studies': 0,\n",
       " 'Tomography, X-Ray Computed': 0}"
      ]
     },
     "execution_count": 18,
     "metadata": {},
     "output_type": "execute_result"
    }
   ],
   "source": [
    "%%time\n",
    "nil_tags_entity_named = {}\n",
    "for s in candidates_entity_named.keys():\n",
    "    nil_tags_entity_named[s] = NIL(s, candidates_entity_named[s])\n",
    "nil_tags_entity_named"
   ]
  },
  {
   "cell_type": "code",
   "execution_count": 19,
   "metadata": {},
   "outputs": [
    {
     "data": {
      "text/plain": [
       "(array([1., 1., 1., 1., 1., 1., 1., 1., 1., 1., 1., 1., 1., 1., 1.]),\n",
       " array(['artificial intelligence', 'cognition', 'controlled study',\n",
       "        'diagnostic imaging', 'human', 'procedures',\n",
       "        'randomized controlled trial', 'retrospective study',\n",
       "        'x-ray computed tomography', 'Artificial Intelligence',\n",
       "        'Cognition', 'COVID-19', 'Humans', 'Retrospective Studies',\n",
       "        'Tomography, X-Ray Computed'], dtype='<U27'),\n",
       " [array(['Artificial intelligence', 'Artificial general intelligence',\n",
       "         'Generative artificial intelligence',\n",
       "         'Hallucination (artificial intelligence)',\n",
       "         'Artificial intelligence art', 'A.I. Artificial Intelligence',\n",
       "         'History of artificial intelligence',\n",
       "         'Applications of artificial intelligence', 'Swarm intelligence',\n",
       "         'Artificial intelligence in healthcare',\n",
       "         'Ethics of artificial intelligence',\n",
       "         'Explainable artificial intelligence',\n",
       "         'Friendly artificial intelligence',\n",
       "         'Symbolic artificial intelligence',\n",
       "         'Timeline of artificial intelligence'], dtype='<U39'),\n",
       "  array(['Cognition', 'Elephant cognition', 'Animal cognition',\n",
       "         'Embodied cognition', 'Need for cognition', 'Nootropic',\n",
       "         'Epistemic cognition', 'Dynamicism', 'Computational cognition',\n",
       "         'Metacognition', 'Evolution of cognition',\n",
       "         'Consciousness and Cognition', 'Perseverative cognition',\n",
       "         'Distributed cognition', 'Paranoia'], dtype='<U27'),\n",
       "  array(['Scientific control', 'Placebo-controlled study',\n",
       "         'Case–control study', 'Randomized controlled trial',\n",
       "         'Nested case–control study', 'Clinical trial',\n",
       "         'Observational study', 'Cohort study', 'Placebo',\n",
       "         'Effects of pornography', 'Cross-sectional study',\n",
       "         'Clinical study design', 'Bristol stool scale', 'Epidemiology',\n",
       "         'Retrospective cohort study'], dtype='<U27'),\n",
       "  array(['Medical imaging', 'Magnetic resonance imaging', 'GE HealthCare',\n",
       "         'Medical test', 'Radiography', 'Medical radiation scientist',\n",
       "         'Radiographer', 'Radiology', 'Medical ultrasound', 'RadNet',\n",
       "         'CT scan', 'Spondylolisthesis', 'Phossy jaw', 'Insulinoma',\n",
       "         'Diagnostic Health Corporation'], dtype='<U29'),\n",
       "  array(['Human', 'Human rights', 'Human sexuality', 'Human trafficking',\n",
       "         'Human evolution', 'Human body', 'Human Development Index',\n",
       "         'Human brain', 'Human resources', 'Human history', 'Human penis',\n",
       "         'Human leg', 'Human genome'], dtype='<U23'),\n",
       "  array(['Standard operating procedure', 'Stored procedure',\n",
       "         'Medical procedure', 'Surgery', 'Civil procedure',\n",
       "         'Procedural programming', 'Radiotelephony procedure',\n",
       "         'Criminal procedure', 'Minimally invasive procedure',\n",
       "         'Committal procedure', 'Plastic surgery', 'Diagnosis',\n",
       "         'Parliamentary procedure'], dtype='<U28'),\n",
       "  array(['Randomized controlled trial',\n",
       "         'Cluster-randomised controlled trial', 'Case–control study',\n",
       "         'Randomized experiment', 'Clinical trial', 'Hierarchy of evidence',\n",
       "         'Observational study', 'Placebo-controlled study', 'N of 1 trial',\n",
       "         'Transcutaneous electrical nerve stimulation',\n",
       "         'Intention-to-treat analysis', 'Crossover study',\n",
       "         'Methylsulfonylmethane', 'Cardiac Arrhythmia Suppression Trial',\n",
       "         'Laxative'], dtype='<U43'),\n",
       "  array(['Retrospective cohort study', 'Case–control study', 'Cohort study',\n",
       "         'Clinical study design', 'Genetic Studies of Genius',\n",
       "         'Tuskegee Syphilis Study',\n",
       "         'Postural orthostatic tachycardia syndrome', 'Hippus', 'Smegma',\n",
       "         'Chihuahua (dog)', 'Cohort (statistics)',\n",
       "         'Osteo-odonto-keratoprosthesis', 'Pomeranian dog',\n",
       "         'Mallampati score', 'Meningioma'], dtype='<U41'),\n",
       "  array(['Industrial computed tomography', 'CT scan', 'Tomography',\n",
       "         'Cone beam computed tomography', 'X-ray microtomography',\n",
       "         'Electron beam computed tomography',\n",
       "         'High-resolution computed tomography',\n",
       "         'History of computed tomography',\n",
       "         'Computed tomography angiography',\n",
       "         'Operation of computed tomography',\n",
       "         'Photon-counting computed tomography',\n",
       "         'Quantitative computed tomography',\n",
       "         'Computed tomography dose index',\n",
       "         'Computed tomography of the head', 'PET-CT'], dtype='<U35'),\n",
       "  array(['Artificial intelligence', 'Generative artificial intelligence',\n",
       "         'Artificial general intelligence',\n",
       "         'Hallucination (artificial intelligence)',\n",
       "         'Artificial intelligence art', 'A.I. Artificial Intelligence',\n",
       "         'History of artificial intelligence',\n",
       "         'Applications of artificial intelligence', 'Swarm intelligence',\n",
       "         'Artificial intelligence in healthcare',\n",
       "         'Ethics of artificial intelligence',\n",
       "         'Friendly artificial intelligence',\n",
       "         'Symbolic artificial intelligence',\n",
       "         'Timeline of artificial intelligence',\n",
       "         'Outline of artificial intelligence'], dtype='<U39'),\n",
       "  array(['Cognition', 'Embodied cognition', 'Elephant cognition',\n",
       "         'Animal cognition', 'Need for cognition', 'Nootropic',\n",
       "         'Epistemic cognition', 'Social cognition', 'Dynamicism',\n",
       "         'Computational cognition', 'Metacognition',\n",
       "         'Consciousness and Cognition', 'Evolution of cognition',\n",
       "         'Paranoia', 'Perseverative cognition'], dtype='<U27'),\n",
       "  array(['COVID-19', 'COVID-19 pandemic', 'COVID-19 vaccine',\n",
       "         'COVID-19 pandemic in Indonesia', 'COVID-19 testing',\n",
       "         'Endemic COVID-19', 'COVID-19 pandemic in the United States',\n",
       "         'COVID-19 misinformation', 'COVID-19 lockdowns',\n",
       "         'COVID-19 pandemic in Australia',\n",
       "         'Investigations into the origin of COVID-19',\n",
       "         'COVID-19 pandemic in the United Kingdom',\n",
       "         'COVID-19 pandemic in India', 'Timeline of the COVID-19 pandemic',\n",
       "         'COVID-19 pandemic in Canada'], dtype='<U42'),\n",
       "  array(['Human', 'Archaic humans', 'Human evolution',\n",
       "         'Warcraft: Orcs & Humans', 'Human rights', 'Human trafficking',\n",
       "         'Destroy All Humans!', 'Human sexuality', 'Woman', 'Human history',\n",
       "         'Albinism in humans', 'Humans (TV series)', 'Human genome',\n",
       "         'Human cannibalism', 'Dog'], dtype='<U23'),\n",
       "  array(['Retrospective cohort study', 'Case–control study', 'Cohort study',\n",
       "         'Cohort (statistics)', 'Clinical study design',\n",
       "         'Genetic Studies of Genius', 'Meningioma',\n",
       "         'Biology and sexual orientation', 'Against medical advice',\n",
       "         'Research participant', 'Meta-analysis',\n",
       "         'Prospective cohort study', 'Near-death studies',\n",
       "         'Stevens–Johnson syndrome', 'General paresis of the insane'],\n",
       "        dtype='<U30'),\n",
       "  array(['CT scan', 'Industrial computed tomography',\n",
       "         'X-ray microtomography', 'Electron beam computed tomography',\n",
       "         'Cone beam computed tomography', 'Tomography',\n",
       "         'History of computed tomography',\n",
       "         'Quantitative computed tomography',\n",
       "         'Operation of computed tomography', 'X-ray machine',\n",
       "         'Computed tomography dose index',\n",
       "         'High-resolution computed tomography',\n",
       "         'Photon-counting computed tomography',\n",
       "         'Computed tomography angiography', 'X-ray tube'], dtype='<U35')])"
      ]
     },
     "execution_count": 19,
     "metadata": {},
     "output_type": "execute_result"
    }
   ],
   "source": [
    "keywords = list(nil_tags_entity_named.keys())\n",
    "list_NIL = [k for k, v in nil_tags_entity_named.items() if v == 1]\n",
    "keywords_mask, base_, space_ = get_prepros(keywords, WW, list_NIL)\n",
    "keywords_mask, base_, space_"
   ]
  },
  {
   "cell_type": "code",
   "execution_count": 20,
   "metadata": {},
   "outputs": [
    {
     "name": "stdout",
     "output_type": "stream",
     "text": [
      "{'a1': 0.32653061224489793, 'a2': 0.36734693877551017, 'a3': 0.30612244897959195}\n"
     ]
    }
   ],
   "source": [
    "a = \"0.32653061224489793 0.36734693877551017 0.30612244897959195\".split(\" \")\n",
    "a1, a2, a3 = [float(_) for _ in a]\n",
    "linkscore.add_params({\"a1\": a1, \"a2\": a2, \"a3\": a3})\n",
    "print(linkscore.params)"
   ]
  },
  {
   "cell_type": "code",
   "execution_count": 27,
   "metadata": {},
   "outputs": [
    {
     "name": "stdout",
     "output_type": "stream",
     "text": [
      "[15, 15, 15, 15, 13, 13, 15, 15, 15, 15, 15, 15, 15, 15, 15]\n",
      "CPU times: user 624 ms, sys: 13 µs, total: 624 ms\n",
      "Wall time: 622 ms\n"
     ]
    },
    {
     "data": {
      "text/plain": [
       "{'artificial intelligence': 'Artificial intelligence',\n",
       " 'cognition': 'Cognition',\n",
       " 'controlled study': 'Scientific control',\n",
       " 'diagnostic imaging': 'Medical imaging',\n",
       " 'human': 'Human',\n",
       " 'procedures': 'Surgery',\n",
       " 'randomized controlled trial': 'Randomized controlled trial',\n",
       " 'retrospective study': 'Retrospective cohort study',\n",
       " 'x-ray computed tomography': 'CT scan',\n",
       " 'Artificial Intelligence': 'Artificial intelligence',\n",
       " 'Cognition': 'Cognition',\n",
       " 'COVID-19': 'COVID-19',\n",
       " 'Humans': 'Human',\n",
       " 'Retrospective Studies': 'Retrospective cohort study',\n",
       " 'Tomography, X-Ray Computed': 'CT scan'}"
      ]
     },
     "execution_count": 27,
     "metadata": {},
     "output_type": "execute_result"
    }
   ],
   "source": [
    "%%time\n",
    "best_linking = []\n",
    "if len(base_) > 0:\n",
    "    sample_size = 10000\n",
    "    annealing = Annealing(keywords, base_, space_, linkscore, nf=sample_size, beta=lambda n: n ** (5 / 8))\n",
    "\n",
    "    U = np.random.uniform(size=sample_size)\n",
    "    V = np.random.uniform(size=sample_size)\n",
    "    annealing.MCMC(U, V, save_rate=sample_size)\n",
    "\n",
    "    best_linking = annealing.X\n",
    "\n",
    "linking = get_link(keywords, space_, keywords_mask, best_linking)\n",
    "linking"
   ]
  }
 ],
 "metadata": {
  "kernelspec": {
   "display_name": "Python 3 (ipykernel)",
   "language": "python",
   "name": "python3"
  },
  "language_info": {
   "codemirror_mode": {
    "name": "ipython",
    "version": 3
   },
   "file_extension": ".py",
   "mimetype": "text/x-python",
   "name": "python",
   "nbconvert_exporter": "python",
   "pygments_lexer": "ipython3",
   "version": "3.10.8"
  }
 },
 "nbformat": 4,
 "nbformat_minor": 2
}
